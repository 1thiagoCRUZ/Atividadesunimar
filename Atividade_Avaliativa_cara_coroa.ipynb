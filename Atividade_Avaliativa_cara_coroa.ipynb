{
  "nbformat": 4,
  "nbformat_minor": 0,
  "metadata": {
    "colab": {
      "provenance": [],
      "authorship_tag": "ABX9TyNV6cRs/xCyketvlTmaRe/m",
      "include_colab_link": true
    },
    "kernelspec": {
      "name": "python3",
      "display_name": "Python 3"
    },
    "language_info": {
      "name": "python"
    }
  },
  "cells": [
    {
      "cell_type": "markdown",
      "metadata": {
        "id": "view-in-github",
        "colab_type": "text"
      },
      "source": [
        "<a href=\"https://colab.research.google.com/github/1thiagoCRUZ/colabunimar/blob/main/Atividade_Avaliativa_cara_coroa.ipynb\" target=\"_parent\"><img src=\"https://colab.research.google.com/assets/colab-badge.svg\" alt=\"Open In Colab\"/></a>"
      ]
    },
    {
      "cell_type": "markdown",
      "source": [
        "Criar um jogo de cara ou coroa, onde:\n",
        "\n",
        "Permita o usuário jogar quantas vezes ele quiser;\n",
        "\n",
        "Mostre a opção que o usuário escolheu;\n",
        "\n",
        "Mostre a opção que a máquina escolheu;\n",
        "\n",
        "Mostre quem ganhou a rodada;\n",
        "\n",
        "Mostre os pontos atualizados a cada rodada;\n",
        "\n",
        "Mostre quem ganhou ao final de todas as rodadas.\n",
        "\n",
        "Para um programa eficiente você irá utilizar: IF, ELSE, ELIF, FOR e Array.\n",
        "\n",
        "\n",
        "DICA: Para a máquina escolher de forma aleatória entre CARA ou COROA, você pode utilizar:\n",
        "\n",
        "\n",
        "from random import randint - para o índice da lista de opções [cara, coroa] seja aleatório."
      ],
      "metadata": {
        "id": "liEQb_sPiq5O"
      }
    },
    {
      "cell_type": "code",
      "execution_count": 1,
      "metadata": {
        "colab": {
          "base_uri": "https://localhost:8080/"
        },
        "id": "Y-0Zcl5KioOf",
        "outputId": "bc53e654-9a1c-434d-818e-a0fb452ae42e"
      },
      "outputs": [
        {
          "output_type": "stream",
          "name": "stdout",
          "text": [
            "Quantas vezes você quer jogar? 5\n",
            "🪙 Escolha cara ou coroa: 🪙cara\n",
            "Você escolheu cara\n",
            "A máquina escolheu coroa\n",
            "\n",
            "Caiu coroa\n",
            "Você errou!\n",
            "Você 0 x 1 Computador\n",
            "🪙 Escolha cara ou coroa: 🪙cara\n",
            "Você escolheu cara\n",
            "A máquina escolheu coroa\n",
            "\n",
            "Caiu cara\n",
            "Você acertou\n",
            "Você 1 x 1 Computador\n",
            "🪙 Escolha cara ou coroa: 🪙cara\n",
            "Você escolheu cara\n",
            "A máquina escolheu coroa\n",
            "\n",
            "Caiu cara\n",
            "Você acertou\n",
            "Você 2 x 1 Computador\n",
            "🪙 Escolha cara ou coroa: 🪙cara\n",
            "Você escolheu cara\n",
            "A máquina escolheu coroa\n",
            "\n",
            "Caiu cara\n",
            "Você acertou\n",
            "Você 3 x 1 Computador\n",
            "🪙 Escolha cara ou coroa: 🪙cara\n",
            "Você escolheu cara\n",
            "A máquina escolheu coroa\n",
            "\n",
            "Caiu cara\n",
            "Você acertou\n",
            "Você 4 x 1 Computador\n",
            "Parabéns!! Você é o campeão.\n"
          ]
        }
      ],
      "source": [
        "from random import randint\n",
        "\n",
        "laco = int(input(\"Quantas vezes você quer jogar? \"))\n",
        "\n",
        "opcoes = ['cara', 'coroa']\n",
        "\n",
        "pontoUser = 0\n",
        "pontoMaq = 0\n",
        "\n",
        "for vezes in range(0, laco):\n",
        "  #fazendo lógica para definir vencedor vai imprimir 0 ou 1\n",
        "  coroa_cara = randint(0, len(opcoes)-1)\n",
        "\n",
        "  escolha = input(\"🪙 Escolha cara ou coroa: 🪙\").strip().lower()\n",
        "  print(f\"Você escolheu {escolha}\")\n",
        "\n",
        "  #Caso de CARA\n",
        "  if escolha == opcoes[0]:\n",
        "    maquina = opcoes[1]\n",
        "    print(f\"A máquina escolheu {maquina}\\n\")\n",
        "\n",
        "    if coroa_cara == 0:\n",
        "      pontoUser += 1\n",
        "      print(\"Caiu cara\")\n",
        "      print(\"Você acertou\")\n",
        "      print(f\"Você {pontoUser} x {pontoMaq} Computador\")\n",
        "    else:\n",
        "      print(\"Caiu coroa\")\n",
        "      print(\"Você errou!\")\n",
        "      pontoMaq +=1\n",
        "      print(f\"Você {pontoUser} x {pontoMaq} Computador\")\n",
        "\n",
        "  #Caso de COROA\n",
        "  elif escolha == opcoes[1]:\n",
        "    maquina = opcoes[0]\n",
        "    print(f\"A máquina escolheu {maquina}\\n\")\n",
        "    if coroa_cara == 1:\n",
        "      print(\"Caiu coroa\")\n",
        "      print(\"Você acertou!\")\n",
        "      pontoUser += 1\n",
        "      print(f\"Você {pontoUser} x {pontoMaq} Computador\")\n",
        "    else:\n",
        "      print(\"Caiu cara\")\n",
        "      print(\"Você errou!\")\n",
        "      pontoMaq +=1\n",
        "      print(f\"Você {pontoUser} x {pontoMaq} Computador\")\n",
        "\n",
        "   #Caso de NÃO CARA E NÃO COROA (ERRADO)\n",
        "  else:\n",
        "    print(\"Cagou pai! Ponto para a máquina\")\n",
        "    pontoMaq += 1\n",
        "    print(f\"Você {pontoUser} x {pontoMaq} Computador\")\n",
        "\n",
        "if pontoMaq > pontoUser:\n",
        "  print(\"É o bonde dos cartão clonado 🤑💵🪙. Máquininha campeão!!\")\n",
        "elif pontoMaq < pontoUser:\n",
        "  print(\"Parabéns!! Você é o campeão.\")\n",
        "else:\n",
        "  print(\"Empate, porém vitória moral dos robôs 🤖\")\n",
        "\n"
      ]
    }
  ]
}